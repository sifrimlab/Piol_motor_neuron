{
 "cells": [
  {
   "cell_type": "markdown",
   "id": "10953d1c",
   "metadata": {},
   "source": [
    "#### This notebook showcases the workflow of segmenting (one of) the NFH staining that accompanies the Resolve data.\n",
    "\n",
    "Steps that precede the running of this notebook:\n",
    "\n",
    "1.    Segment the NFH staining using QuPath, and running the src/segment_nfh.groovy macro\n",
    "2.    While still in QuPath, export the resulting mask to ImageJ, and run the src/make_labeled_image.ijm macro to turn the segmnentation mask into a labeled image, where each integer represents a separate object.\n",
    "\n",
    "3.   (Optional) add column names to the results.txt file of the Resolve technique for easy parsing with pandas (col, row, z, gene)"
   ]
  },
  {
   "cell_type": "code",
   "execution_count": 5,
   "id": "ba43f4dc",
   "metadata": {},
   "outputs": [],
   "source": [
    "# use environment created based on yamls/img_processing.yml\n",
    "from skimage import io\n",
    "from skimage.measure import label\n",
    "from src.make_count_matrices_from_labeled_image import createGeneMatrix\n",
    "\n",
    "# For segmenting the tissue\n",
    "from skimage.filters import threshold_li\n",
    "from skimage.morphology import convex_hull_image"
   ]
  },
  {
   "cell_type": "code",
   "execution_count": null,
   "id": "58e78f7d",
   "metadata": {},
   "outputs": [],
   "source": [
    "# NFH segmented image was created by applying the src/segment_nfh.groovy macro to the NFH staining\n",
    "nfh_labeled_image = io.imread(\"/path/to/labeled_image.tif\")\n",
    "\n",
    "resolve_results = pd.read_csv(\"/path/to/resolve_results_for_this_slide.txt\")"
   ]
  },
  {
   "cell_type": "code",
   "execution_count": null,
   "id": "054f8d50",
   "metadata": {},
   "outputs": [],
   "source": [
    "# To make the mask of what ISN'T nfh, we could just invert the mask. However, some off-tissue genes are sometimes found\n",
    "# To also filter these out, we take the original NFH staining and segment the entire tissue, to also invert that mask\n",
    "original_nfh_staining = io.imread(\"/path/to/nfh_staining.tif\")\n",
    "\n",
    "thresh = threshold_li(original_nfh_staining)\n",
    "tissue_mask = original_nfh_staining > thresh\n",
    "tissue_mask = convex_hull_image(tissue_mask)\n",
    "\n",
    "negative_labeled_image = label((nfh_labeled_image == 0) & (tissue_mask))"
   ]
  },
  {
   "cell_type": "code",
   "execution_count": null,
   "id": "bfb3b92b",
   "metadata": {},
   "outputs": [],
   "source": [
    "nfh_count_matrix = createGeneMatrix(nfh_labeled_image, resolve_results)\n",
    "negative_count_matrix = createGeneMatrix(negative_labeled_image, resolve_results)"
   ]
  }
 ],
 "metadata": {
  "kernelspec": {
   "display_name": "Python 3 (ipykernel)",
   "language": "python",
   "name": "python3"
  },
  "language_info": {
   "codemirror_mode": {
    "name": "ipython",
    "version": 3
   },
   "file_extension": ".py",
   "mimetype": "text/x-python",
   "name": "python",
   "nbconvert_exporter": "python",
   "pygments_lexer": "ipython3",
   "version": "3.9.16"
  }
 },
 "nbformat": 4,
 "nbformat_minor": 5
}
